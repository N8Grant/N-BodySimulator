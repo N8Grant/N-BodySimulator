{
 "cells": [
  {
   "cell_type": "code",
   "execution_count": 16,
   "metadata": {},
   "outputs": [],
   "source": [
    "import math\n",
    "import random\n",
    "import matplotlib.pyplot as plt\n",
    "import numpy\n",
    "import time\n",
    "import matplotlib.animation as animation\n",
    "import numpy as np\n",
    "\n",
    "#Constants\n",
    "G = math.pow(6.67408,-11)\n",
    "T = 1000\n",
    "N = 2\n",
    "DIM = 2\n",
    "\n",
    "class Body:\n",
    "    def __init__(self):        # change to make so that initial conditions can be changed\n",
    "        self.mass = random.uniform(math.pow(5.97,24),math.pow(1.98,30))\n",
    "        self.position = [random.randint(1,100000000),random.randint(1,100000000)]\n",
    "        self.velocity = [random.uniform(0,100),random.uniform(0,100)]\n",
    "    def set_position(self,pos):\n",
    "        self.position = pos\n",
    "    def set_velocity(self,vel):\n",
    "        self.velocity = vel\n",
    "    def set_mass(self,m):\n",
    "        self.mass = m\n",
    "\n",
    "def updatePositions(bodies):\n",
    "    i = 0\n",
    "    j = 0\n",
    "    v = []\n",
    "    for body in bodies:\n",
    "        vel_vector = [0,0]\n",
    "        for other in bodies:\n",
    "            if i != j:\n",
    "                for dim in range(DIM):        #change for number of dimensions\n",
    "                    vel_vector[dim] += G*other.mass/distance(body,other)\n",
    "                if body.mass < other.mass:\n",
    "                    vel_vector = [x * -1 for x in vel_vector]\n",
    "            j+=1\n",
    "        i+=1\n",
    "        j=0\n",
    "        v.append(vel_vector)\n",
    "    i = 0\n",
    "    for body in bodies:\n",
    "        body.set_position([x + y for x, y in zip(body.position, v[i])])\n",
    "        i+=1\n",
    "        \n",
    "def distance(first,second):\n",
    "    sum = 0\n",
    "    for dim in range(0,2):\n",
    "        sum += math.pow(first.position[dim]-second.position[dim],2)\n",
    "    return math.sqrt(sum)\n",
    " \n",
    "bodies = []\n",
    "for i in range(N):\n",
    "    bodies.append(Body())\n",
    "\n",
    "arr = []\n",
    "\n",
    "for t in range(T):            #change to make more accurate\n",
    "    updatePositions(bodies)\n",
    "    i = 1\n",
    "    for body in bodies:\n",
    "        name = \"Body: \" + str(i)\n",
    "        arr.append([name, body.position[0], body.position[1], t, math.log(body.mass)])\n",
    "        i+=1"
   ]
  },
  {
   "cell_type": "code",
   "execution_count": 17,
   "metadata": {},
   "outputs": [
    {
     "name": "stdout",
     "output_type": "stream",
     "text": [
      "         Body             x             y  Time       Mass\n",
      "0     Body: 1  2.097040e+13  2.082040e+13     0  69.760650\n",
      "1     Body: 2 -6.573599e+18 -6.573599e+18     0  57.048789\n",
      "2     Body: 1  2.097040e+13  2.082040e+13     1  69.760650\n",
      "3     Body: 2 -6.573599e+18 -6.573599e+18     1  57.048789\n",
      "4     Body: 1  2.097040e+13  2.082040e+13     2  69.760650\n",
      "...       ...           ...           ...   ...        ...\n",
      "9995  Body: 2 -6.574129e+18 -6.574129e+18  4997  57.048789\n",
      "9996  Body: 1  2.097200e+13  2.082200e+13  4998  69.760650\n",
      "9997  Body: 2 -6.574129e+18 -6.574129e+18  4998  57.048789\n",
      "9998  Body: 1  2.097200e+13  2.082200e+13  4999  69.760650\n",
      "9999  Body: 2 -6.574129e+18 -6.574129e+18  4999  57.048789\n",
      "\n",
      "[10000 rows x 5 columns]\n"
     ]
    }
   ],
   "source": [
    "import pandas as pd\n",
    "\n",
    "types = {\"Body\":[],\"x\":[],\"y\":[],\"Time\":[],\"Mass\":[]}\n",
    "table = pd.DataFrame(arr,columns=types)"
   ]
  },
  {
   "cell_type": "code",
   "execution_count": null,
   "metadata": {},
   "outputs": [],
   "source": [
    "import plotly.express as px\n",
    "\n",
    "px.scatter(table, x=\"x\", y=\"y\", animation_frame=\"Time\",\n",
    "           size=\"Mass\", color=\"Body\", hover_name=\"Body\",\n",
    "           log_x=False, size_max=20, range_x=[0,2*math.pow(10,12)], range_y=[0,math.pow(10,12)])\n"
   ]
  },
  {
   "cell_type": "code",
   "execution_count": null,
   "metadata": {},
   "outputs": [],
   "source": []
  }
 ],
 "metadata": {
  "kernelspec": {
   "display_name": "Python 3",
   "language": "python",
   "name": "python3"
  },
  "language_info": {
   "codemirror_mode": {
    "name": "ipython",
    "version": 3
   },
   "file_extension": ".py",
   "mimetype": "text/x-python",
   "name": "python",
   "nbconvert_exporter": "python",
   "pygments_lexer": "ipython3",
   "version": "3.7.4"
  }
 },
 "nbformat": 4,
 "nbformat_minor": 2
}
